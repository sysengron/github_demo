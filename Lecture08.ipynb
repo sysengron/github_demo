{
 "cells": [
  {
   "cell_type": "code",
   "execution_count": 1,
   "metadata": {},
   "outputs": [],
   "source": [
    "import numpy as np\n",
    "import matplotlib.pyplot as plt\n",
    "import pandas as pd"
   ]
  },
  {
   "cell_type": "code",
   "execution_count": 2,
   "metadata": {},
   "outputs": [],
   "source": [
    "dataset = pd.read_csv('Data/mini_data.csv')"
   ]
  },
  {
   "cell_type": "code",
   "execution_count": 3,
   "metadata": {},
   "outputs": [
    {
     "name": "stdout",
     "output_type": "stream",
     "text": [
      "  Profession   Age   Salary Purchased\n",
      "0     Doctor  44.0  72000.0        No\n",
      "1     Lawyer  27.0  48000.0       Yes\n",
      "2     Banker  30.0  54000.0        No\n",
      "3     Lawyer  38.0  61000.0        No\n",
      "4     Banker  40.0      NaN       Yes\n",
      "5     Doctor  35.0  58000.0       Yes\n",
      "6     Lawyer   NaN  52000.0        No\n",
      "7     Doctor  48.0  79000.0       Yes\n",
      "8     Banker  50.0  83000.0        No\n",
      "9     Doctor  37.0  67000.0       Yes\n"
     ]
    }
   ],
   "source": [
    "print(dataset)"
   ]
  },
  {
   "cell_type": "code",
   "execution_count": 4,
   "metadata": {},
   "outputs": [],
   "source": [
    "X = dataset.iloc[:, :-1].values"
   ]
  },
  {
   "cell_type": "code",
   "execution_count": 5,
   "metadata": {},
   "outputs": [
    {
     "name": "stdout",
     "output_type": "stream",
     "text": [
      "[['Doctor' 44.0 72000.0]\n",
      " ['Lawyer' 27.0 48000.0]\n",
      " ['Banker' 30.0 54000.0]\n",
      " ['Lawyer' 38.0 61000.0]\n",
      " ['Banker' 40.0 nan]\n",
      " ['Doctor' 35.0 58000.0]\n",
      " ['Lawyer' nan 52000.0]\n",
      " ['Doctor' 48.0 79000.0]\n",
      " ['Banker' 50.0 83000.0]\n",
      " ['Doctor' 37.0 67000.0]]\n"
     ]
    }
   ],
   "source": [
    "print(X)"
   ]
  },
  {
   "cell_type": "code",
   "execution_count": 6,
   "metadata": {},
   "outputs": [],
   "source": [
    "Y = dataset.iloc[:, -1].values"
   ]
  },
  {
   "cell_type": "code",
   "execution_count": 7,
   "metadata": {},
   "outputs": [
    {
     "name": "stdout",
     "output_type": "stream",
     "text": [
      "['No' 'Yes' 'No' 'No' 'Yes' 'Yes' 'No' 'Yes' 'No' 'Yes']\n"
     ]
    }
   ],
   "source": [
    "print(Y)"
   ]
  },
  {
   "cell_type": "code",
   "execution_count": 8,
   "metadata": {},
   "outputs": [],
   "source": [
    "from sklearn.impute import SimpleImputer"
   ]
  },
  {
   "cell_type": "code",
   "execution_count": 10,
   "metadata": {},
   "outputs": [],
   "source": [
    "imputer = SimpleImputer(missing_values = np.nan, strategy = 'mean')"
   ]
  },
  {
   "cell_type": "code",
   "execution_count": 11,
   "metadata": {},
   "outputs": [],
   "source": [
    "fitting = imputer.fit(X[ : , 1:3 ])"
   ]
  },
  {
   "cell_type": "code",
   "execution_count": 12,
   "metadata": {},
   "outputs": [],
   "source": [
    "X[ : , 1:3 ] = fitting.transform(X[ : , 1:3 ])"
   ]
  },
  {
   "cell_type": "code",
   "execution_count": 13,
   "metadata": {},
   "outputs": [
    {
     "name": "stdout",
     "output_type": "stream",
     "text": [
      "[['Doctor' 44.0 72000.0]\n",
      " ['Lawyer' 27.0 48000.0]\n",
      " ['Banker' 30.0 54000.0]\n",
      " ['Lawyer' 38.0 61000.0]\n",
      " ['Banker' 40.0 63777.77777777778]\n",
      " ['Doctor' 35.0 58000.0]\n",
      " ['Lawyer' 38.77777777777778 52000.0]\n",
      " ['Doctor' 48.0 79000.0]\n",
      " ['Banker' 50.0 83000.0]\n",
      " ['Doctor' 37.0 67000.0]]\n"
     ]
    }
   ],
   "source": [
    "print(X)"
   ]
  },
  {
   "cell_type": "code",
   "execution_count": null,
   "metadata": {},
   "outputs": [],
   "source": []
  }
 ],
 "metadata": {
  "kernelspec": {
   "display_name": "Python 3",
   "language": "python",
   "name": "python3"
  },
  "language_info": {
   "codemirror_mode": {
    "name": "ipython",
    "version": 3
   },
   "file_extension": ".py",
   "mimetype": "text/x-python",
   "name": "python",
   "nbconvert_exporter": "python",
   "pygments_lexer": "ipython3",
   "version": "3.8.3"
  }
 },
 "nbformat": 4,
 "nbformat_minor": 4
}
